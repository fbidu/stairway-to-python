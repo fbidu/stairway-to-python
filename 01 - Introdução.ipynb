{
 "cells": [
  {
   "cell_type": "markdown",
   "metadata": {},
   "source": [
    "# Introdução\n",
    "\n",
    "Bem vindos ao Stairway to Python!\n",
    "\n",
    "Nesse curso, apresentarei os fundamentos da linguagem Python, sua sintaxe, as partes principais de sua biblioteca padrão, suas mais famosas bibliotecas externas, seu ecossistema e comunidade. Ao completá-lo, você deverá ser capaz de executar tarefas básicas em Python, saber reconhecer problemas comuns e - principalmente - sentir-se motivado a saber mais sobre essa linguagem tão interessante.\n",
    "\n",
    "Não tenho intenção de escrever um guia completo da linguagem. Python é uma linguagem multiparadigma e de múltiplos propósitos. Seus casos de uso e as possíveis arquiteturas que seus códigos podem seguir são extremamente vastos. Meu objetivo é dar para vocês um conhecimento de base, uma motivação para estudar Python e indicar os diversos caminhos possíveis da lingugagem.\n",
    "\n",
    "\n",
    "## Este curso é pra mim?\n",
    "\n",
    "Fiz esse curso pensando em pessoas que já saibam alguma linguagem de programação e queiram aprender Python. Termos como \"variável\", \"condicional\", \"loop\", \"função\" não devem ser completamente novos para você.\n",
    "\n",
    "Em resumo, se você:\n",
    "\n",
    "* Não tem nenhum conhecimento prévio em programação\n",
    "* Procura por um material de nível avançado de Python\n",
    "* Busca por conhecimentos de uma área específica - análise de dados, machine learning, IoT\n",
    "* Precisa de um curso que ensine os fundamentos de computação, lógica e programação\n",
    "\n",
    "Você provavelmente não irá aproveitar muito desse material. Em especial, caso você queira aprender programação do zero, recomendo o ótimo [Python Para Zumbis](https://www.pycursos.com/python-para-zumbis/) do excelente Fernando Masanori. \n",
    "\n",
    "## Linguagem != Implementação de Linguagem!\n",
    "\n",
    "Uma _linguagem de programação_ — como o termo sugere — é um conjunto de regras para produção e interpretação de textos. Notadamente, uma linguagem se limita a definir **o quê** deve ser feito e não **como**. A forma como alguém escolhe colocar em ação a especificação de uma linguagem define uma _implementação_.\n",
    "\n",
    "Implementações diferentes fazem as mesmas coisas através de caminhos potencialmente diferentes. Algumas linguagens como [Python](https://docs.python.org/3/reference/index.html), [Java](https://docs.oracle.com/javase/specs/jls/se10/html/index.html) e [C](https://www.iso.org/standard/74528.html) possuem documentos que especificam a linguagem e implementações padrões que são as mais utilizadas — mas não são as únicas. Outras linguagens — como Perl — não possuem um documento em si que a define, mas sim uma implementação que é tida como referência da linguagem.\n",
    "\n",
    "No contexto do Python, modificações para a linguagem são propostas através de um documento chamado [PEP](https://www.python.org/dev/peps/) — sigla em inglês para Proposta de Melhoras para o Python. Esses documentos são submetidos, discutidos e implementados caso sejam aceitos. Mudanças para a implementação padrão, conhecida como CPython, são feitas através da [página do projeto](https://devguide.python.org/).\n",
    "\n",
    "Algumas características que pensamos ser da _linguagem_ como o fato dela ser \"compilada\" ou \"interpretada\" são na verdade características de _implementações da linguagem_. C, uma linguagem comumente vista como \"compilada\", possui interpretadores como [PicoC](https://gitlab.com/zsaleeba/picoc) e linguagens como Python e Javascript — normalmente vistas como \"interpretadas\" — possuem compiladores como [Nectar](https://nectar-lang.com/) [Nuitka](http://nuitka.net/pages/overview.html). Lembre-se **interpretação versus compilação é, em geral, uma característica da implementação. Não da linguagem**.\n",
    "\n",
    "## Por que Python?\n",
    "\n",
    "Antes de decidirmos usar qualquer tecnologia, devemos ter em mente suas vantagens e desvantagens. Dessa forma, podemos tomar decisões mais precisas quanto ao caminho que seguiremos em nosso trabalho. Os motivos principais que justificam o uso de Python incluem:\n",
    "\n",
    "### Sintaxe\n",
    "\n",
    "Python possui uma sintaxe bem mais leve e clara do que muitas linguagens de programação. Por vezes, pessoas que não possuem conhecimento específico de Python conseguem facilmente olhar para o código e determinar o que está acontecendo. Isso é uma grande vantagem pois torna o trabalho de escrita e de revisão de código mais fácil.\n",
    "\n",
    "Uma linguagem que torna o código mais legível - sem depender tanto do bom senso do programador para isso - aumenta a produtividade de seus usuários.\n",
    "\n",
    "### Biblioteca Padrão\n",
    "\n",
    "Usando Python puro - sem instalar nenhuma biblioteca adicional - você terá [um ecossistema muito rico que te oferece muitas ferramentas prontas](https://docs.python.org/3/library/). Diversas operações relacionadas à manipulação de strings, estruturas de dados complexas, operação com redes, operação com diversos protocolos de comunicação - como o HTTP - são \"out-of-the-box\" em Python e você pode contar com a presença delas em qualquer ambiente pronto para rodar Python\n",
    "\n",
    "### Bibliotecas Disponíveis\n",
    "\n",
    "Além da rica biblioteca padrão, Python é utilizado por diversos programadores ao redor do mundo. Em 2018, ela foi eleita pelo segundo ano consecutivo a [linguagem mais desejada](https://insights.stackoverflow.com/survey/2018/#most-loved-dreaded-and-wanted) pelos programadores que responderam à enquete do StackOverflow - o que significa que ela é a linguagem que as pessoas mais desejam aprender e ela é a 7ª mais usada.\n",
    "\n",
    "Esses colegas desenvolvem bibliotecas adicionais que podem ser facilmente encontradas e instaladas através do [Python Package Index](https://pypi.org/). Vale a pena explorar e conhecer o PyPI, lá você vai encontrar diversas bibliotecas capazes de\n",
    "\n",
    "* [Interagir com o Facebook](https://pypi.org/project/facebook2/)\n",
    "* [Realizar operações matemáticas complexas](https://pypi.org/project/numpy/)\n",
    "* [Fazer scraping de páginas da web](https://pypi.org/project/Scrapy/)\n",
    "* [Realizar chamadas HTTP de forma mais fácil](https://pypi.org/project/requests/)\n",
    "* [Gerar gráficos](https://pypi.org/project/matplotlib/)\n",
    "* [Processar linguagem natural](https://pypi.org/project/nltk/)\n",
    "\n",
    "E muito mais\n",
    "\n",
    "### Multiparadigmas\n",
    "\n",
    "Não importa se você prefere programar de forma procedural, imperativa ou orientada à objetos, Python comporta todas! É possível também utilizar muitas das estruturas comuns da [programação funcional](https://docs.python.org/3/howto/functional.html).\n",
    "\n",
    "\n",
    "### Extensiva\n",
    "\n",
    "Python permite que você interaja com bibliotecas em feitas em [C e C++](https://docs.python.org/3/extending/extending.html). Existem também ferramentas prontas para você interagir com outras linguagens como [Java](https://www.py4j.org/index.html) e com o ambiente [.NET](http://ironpython.net/)\n",
    "\n",
    "### Filosofia\n"
   ]
  },
  {
   "cell_type": "code",
   "execution_count": 1,
   "metadata": {},
   "outputs": [
    {
     "name": "stdout",
     "output_type": "stream",
     "text": [
      "The Zen of Python, by Tim Peters\n",
      "\n",
      "Beautiful is better than ugly.\n",
      "Explicit is better than implicit.\n",
      "Simple is better than complex.\n",
      "Complex is better than complicated.\n",
      "Flat is better than nested.\n",
      "Sparse is better than dense.\n",
      "Readability counts.\n",
      "Special cases aren't special enough to break the rules.\n",
      "Although practicality beats purity.\n",
      "Errors should never pass silently.\n",
      "Unless explicitly silenced.\n",
      "In the face of ambiguity, refuse the temptation to guess.\n",
      "There should be one-- and preferably only one --obvious way to do it.\n",
      "Although that way may not be obvious at first unless you're Dutch.\n",
      "Now is better than never.\n",
      "Although never is often better than *right* now.\n",
      "If the implementation is hard to explain, it's a bad idea.\n",
      "If the implementation is easy to explain, it may be a good idea.\n",
      "Namespaces are one honking great idea -- let's do more of those!\n"
     ]
    }
   ],
   "source": [
    "import this"
   ]
  },
  {
   "cell_type": "markdown",
   "metadata": {},
   "source": [
    "Python é extremamente bem pensado e planejado. Existe um amplo processo de tomada de decisão por trás da linguagem que engloba toda a comunidade e leva em consideração como as coisas são de fato utilizadas. O Zen do Python define uma lógica simples que pode ser aplicada no nosso trabalho — e até mesmo fora da computação — que ajuda a tornar tudo mais claro.\n",
    "\n",
    "Em português:\n",
    "\n",
    "```\n",
    "    O Zen do Python, por Tim Peters\n",
    "\n",
    "    Bonito é melhor que feio.\n",
    "    Explícito é melhor que implícito.\n",
    "    Simples é melhor que complexo.\n",
    "    Complexo é melhor que complicado.\n",
    "    Linear é melhor que aninhado.\n",
    "    Esparso é melhor que denso.\n",
    "    Legibilidade conta.\n",
    "    Casos especiais não são especiais o bastante para quebrar as regras.\n",
    "    Ainda que praticidade vença a pureza.\n",
    "    Erros nunca devem passar silenciosamente.\n",
    "    A menos que sejam explicitamente silenciados.\n",
    "    Diante da ambiguidade, recuse a tentação de adivinhar.\n",
    "    Deveria haver um — e preferencialmente só um — modo óbvio para fazer algo.\n",
    "    Embora esse modo possa não ser óbvio a princípio a menos que você seja holandês.\n",
    "    Agora é melhor que nunca.\n",
    "    Embora nunca às vezes seja melhor que exatamente agora.\n",
    "    Se a implementação é difícil de explicar, é uma má ideia.\n",
    "    Se a implementação é fácil de explicar, talvez seja uma boa ideia.\n",
    "    Namespaces são uma grande ideia — vamos ter mais dessas!\n",
    " ```\n",
    " \n",
    "## Por que NÃO Python?\n",
    "\n",
    "Como toda tecnologia, Python possui suas desvantagens. Muitas vezes existem estrategias que diminuem o impacto delas e - em algumas situações - essas desvantagens sequer serão um problema. No entanto, é importante considerá-las antes de iniciar um projeto.\n",
    "\n",
    "### Fraco em programação para smartphones e browsers\n",
    "\n",
    "Python não possui um suporte muito bom nessas plataformas ainda. Existem projetos voltados para melhorar essa situação com o [Kivy](https://kivy.org/), [BeeWare](https://pybee.org/) e [Brython](https://brython.info/)\n",
    "\n",
    "### Potencialmente mais lento que outras linguagens\n",
    "\n",
    "Comparações de performance entre linguagens costumam ser problemáticas e contam apenas uma parte da história. Programas diferentes rodam com performance diferentes. No entanto, diversos benchmarks mostram que a implementação padrão do Python - o CPython - é mais lento do que linguagens como C e Java.\n",
    "\n",
    "Parte dessa lentidão vem do fato de que CPython é extremamente dinâmico e customizável. Outras implementações do Python como o PyPy possuem uma performance maior mas também são menos dinâmicas.\n",
    "\n",
    "Referências:\n",
    "* [Why is Python so Slow?](https://hackernoon.com/why-is-python-so-slow-e5074b6fe55b)\n",
    "* [PyPy](http://pypy.org/)\n",
    "* [PyPy's Speed Center](http://speed.pypy.org/)\n",
    "* [PyPy — How can it possibly beat CPython?](https://stackoverflow.com/questions/2591879/pypy-how-can-it-possibly-beat-cpython?rq=1)\n",
    "\n",
    "### Tipagem dinâmica causa problemas inesperados\n",
    "\n",
    "Como tudo é dinâmico, as variáveis não possuem tipos explicitos e as funções também não explicitam tipos de retorno, isso pode causar comportamentos inesperados que só serão detectados ao longo de testes ou da execução do programa. Em linguagens estaticamente tipadas, esses erros seriam pegos antes mesmo da execução. Desde a versão 3.5, Python possui suporte para [Type Hints](https://docs.python.org/3/library/typing.html), que são úteis para evitar erros.\n",
    "\n",
    "## Python 2 ou 3?\n",
    "\n",
    "Em resumo, Python 3. Sempre.\n",
    "\n",
    "Atualmente ambas as versões coexistem e não são 100% compatíveis. Por exemplo, a instrução `print \"Hello, world!\"` é válida em Python 2 e inválida em Python 3. Existem diversas outras diferenças internas entre elas.\n",
    "\n",
    "No contexto desse guia, apenas Python 3 será considerado. Atualmente, Python 2 ainda é mantido, mas isso irá acabar em 2020. É possível escrever código compatível com as duas versões. A dificuldade de fazer isso vai oscilar de acordo com o código em questão.\n",
    "\n",
    "A recomendação é de que todo código novo seja escrito em Python 3 e que códigos ainda existentes em Python 2 seja portado para Python 3 — ainda existe uma parcela boa de código feito em Python 2! Você pode encontrar mais detalhes das diferenças entre os dois [nesse texto escrito pelo criador do Python, Guido van Rossum](https://docs.python.org/3/whatsnew/3.0.html)\n",
    "\n",
    "## Conhecendo o ambiente\n",
    "\n",
    "Você está dentro de um [Notebook Jupyter](http://jupyter.org/). Ele vai permitir que vocês executem códigos de exemplo de maneira bastante prática. Além de permitir que eu crie uma visualização bonita do material sem ter que me preocupar muito com demais tecnologias.\n",
    "\n",
    "Quando você encontrar um box como o que aparece aqui em baixo, basta apertar CTRL+Enter, SHIFT+Enter, ou \"Run\" ali no menu para executar o código contido. Teste na célula a seguir para obter o resultado da multiplicação"
   ]
  },
  {
   "cell_type": "code",
   "execution_count": 1,
   "metadata": {},
   "outputs": [
    {
     "data": {
      "text/plain": [
       "400"
      ]
     },
     "execution_count": 1,
     "metadata": {},
     "output_type": "execute_result"
    }
   ],
   "source": [
    "10 * 40"
   ]
  },
  {
   "cell_type": "markdown",
   "metadata": {},
   "source": [
    "Agora altere o código na linha acima para que multiplique 1000 por 42 e execute novamente.\n",
    "\n",
    "Em Python, podemos imprimir diversos elementos no terminal com a função `print()`:"
   ]
  },
  {
   "cell_type": "code",
   "execution_count": 3,
   "metadata": {},
   "outputs": [
    {
     "name": "stdout",
     "output_type": "stream",
     "text": [
      "Olá, python!\n"
     ]
    }
   ],
   "source": [
    "print(\"Olá, python!\")"
   ]
  },
  {
   "cell_type": "markdown",
   "metadata": {},
   "source": [
    "Os Notebooks Jupyter são uma das diversas ferramentas existentes no ecossistema do Python. Se você pretende usar Python como parte de uma pesquisa acadêmica ou para analisar dados com qualquer outra finalidade, eu recomendo **fortemente** que você leia mais sobre o Jupyter quando tiver oportunidade!\n",
    "\n",
    "[Interactive notebooks: Sharing the code](https://www.nature.com/news/interactive-notebooks-sharing-the-code-1.16261)\n",
    "\n",
    "[Por que usar o Jupyter Notebook?](http://suzanamota.com/2018/04/13/por-que-usar-jupyter-notebook/)\n",
    "\n",
    "[Python e o Jupyter/IPython Notebook](http://2017.fgsl.net/up/2/o/00023_12_Seminario-_Introducao_ao_Jupyter.pdf)"
   ]
  }
 ],
 "metadata": {
  "celltoolbar": "Raw Cell Format",
  "kernelspec": {
   "display_name": "Python 3 (ipykernel)",
   "language": "python",
   "name": "python3"
  },
  "language_info": {
   "codemirror_mode": {
    "name": "ipython",
    "version": 3
   },
   "file_extension": ".py",
   "mimetype": "text/x-python",
   "name": "python",
   "nbconvert_exporter": "python",
   "pygments_lexer": "ipython3",
   "version": "3.11.2"
  }
 },
 "nbformat": 4,
 "nbformat_minor": 4
}
