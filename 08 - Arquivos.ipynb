{
 "cells": [
  {
   "cell_type": "markdown",
   "metadata": {},
   "source": [
    "# Arquivos\n",
    "\n",
    "Manipulação de arquivos é uma tarefa bastante usual e Python oferece uma interface completa para lidar com situações do tipo. Na forma mais básica, a leitura e escrita de um arquivo são feitas pela instrução `open`\n",
    "\n",
    "[Documentação Oficial - open()](https://docs.python.org/3/library/functions.html#open)"
   ]
  },
  {
   "cell_type": "code",
   "execution_count": 13,
   "metadata": {},
   "outputs": [],
   "source": [
    "exemplo = open('exemplo.txt')"
   ]
  },
  {
   "cell_type": "code",
   "execution_count": 14,
   "metadata": {},
   "outputs": [
    {
     "data": {
      "text/plain": [
       "'E nessa loucura de dizer que não te quero\\nVou negando as aparências\\nDisfarçando as evidências\\nMas pra que viver fingindo\\nSe eu não posso enganar meu coração\\nEu sei que te amo\\nChega de mentiras\\nDe negar o meu desejo\\nEu te quero mais que tudo\\nEu preciso do seu beijo\\nEu entrego a minha vida\\nPra você fazer o que quiser de mim\\nSó quero ouvir você dizer que sim\\n\\nDiz que é verdade, que tem saudade\\nQue ainda você pensa muito em mim\\nDiz que é verdade, que tem saudade\\nQue ainda você quer viver pra mim\\n'"
      ]
     },
     "execution_count": 14,
     "metadata": {},
     "output_type": "execute_result"
    }
   ],
   "source": [
    "exemplo.read()"
   ]
  },
  {
   "cell_type": "markdown",
   "metadata": {},
   "source": [
    "Ao ler um arquivo, o cursor é colocado ao final. Portanto, se chamarmos \"read\" novamente, não teremos dado algum:"
   ]
  },
  {
   "cell_type": "code",
   "execution_count": 15,
   "metadata": {},
   "outputs": [
    {
     "data": {
      "text/plain": [
       "''"
      ]
     },
     "execution_count": 15,
     "metadata": {},
     "output_type": "execute_result"
    }
   ],
   "source": [
    "exemplo.read()"
   ]
  },
  {
   "cell_type": "markdown",
   "metadata": {},
   "source": [
    "Caso seja necessário ler o arquivo do começo de novo, podemos mover o cursos de volta ao início com `seek(0)`"
   ]
  },
  {
   "cell_type": "code",
   "execution_count": 16,
   "metadata": {},
   "outputs": [
    {
     "data": {
      "text/plain": [
       "'E nessa loucura de dizer que não te quero\\nVou negando as aparências\\nDisfarçando as evidências\\nMas pra que viver fingindo\\nSe eu não posso enganar meu coração\\nEu sei que te amo\\nChega de mentiras\\nDe negar o meu desejo\\nEu te quero mais que tudo\\nEu preciso do seu beijo\\nEu entrego a minha vida\\nPra você fazer o que quiser de mim\\nSó quero ouvir você dizer que sim\\n\\nDiz que é verdade, que tem saudade\\nQue ainda você pensa muito em mim\\nDiz que é verdade, que tem saudade\\nQue ainda você quer viver pra mim\\n'"
      ]
     },
     "execution_count": 16,
     "metadata": {},
     "output_type": "execute_result"
    }
   ],
   "source": [
    "exemplo.seek(0)\n",
    "exemplo.read()"
   ]
  },
  {
   "cell_type": "markdown",
   "metadata": {},
   "source": [
    "No entanto, **isso não é recomendado**. Leituras em disco são mais lentas que leituras em memória. A não ser que o arquivo seja realmente muito grande, vale a pena guardar o resultado da leitura em uma variável. Isso é feito como de costume:"
   ]
  },
  {
   "cell_type": "code",
   "execution_count": 2,
   "metadata": {},
   "outputs": [
    {
     "name": "stdout",
     "output_type": "stream",
     "text": [
      "E nessa loucura de dizer que não te quero\n",
      "Vou negando as aparências\n",
      "Disfarçando as evidências\n",
      "Mas pra que viver fingindo\n",
      "Se eu não posso enganar meu coração\n",
      "Eu sei que te amo\n",
      "Chega de mentiras\n",
      "De negar o meu desejo\n",
      "Eu te quero mais que tudo\n",
      "Eu preciso do seu beijo\n",
      "Eu entrego a minha vida\n",
      "Pra você fazer o que quiser de mim\n",
      "Só quero ouvir você dizer que sim\n",
      "\n",
      "Diz que é verdade, que tem saudade\n",
      "Que ainda você pensa muito em mim\n",
      "Diz que é verdade, que tem saudade\n",
      "Que ainda você quer viver pra mim\n",
      "\n"
     ]
    }
   ],
   "source": [
    "data = open('exemplo.txt').read()\n",
    "print(data)"
   ]
  },
  {
   "cell_type": "markdown",
   "metadata": {},
   "source": [
    "Note a diferença entre simplesmente inspecionar o conteúdo no terminal:"
   ]
  },
  {
   "cell_type": "code",
   "execution_count": 3,
   "metadata": {},
   "outputs": [
    {
     "data": {
      "text/plain": [
       "'E nessa loucura de dizer que não te quero\\nVou negando as aparências\\nDisfarçando as evidências\\nMas pra que viver fingindo\\nSe eu não posso enganar meu coração\\nEu sei que te amo\\nChega de mentiras\\nDe negar o meu desejo\\nEu te quero mais que tudo\\nEu preciso do seu beijo\\nEu entrego a minha vida\\nPra você fazer o que quiser de mim\\nSó quero ouvir você dizer que sim\\n\\nDiz que é verdade, que tem saudade\\nQue ainda você pensa muito em mim\\nDiz que é verdade, que tem saudade\\nQue ainda você quer viver pra mim\\n'"
      ]
     },
     "execution_count": 3,
     "metadata": {},
     "output_type": "execute_result"
    }
   ],
   "source": [
    "data"
   ]
  },
  {
   "cell_type": "markdown",
   "metadata": {},
   "source": [
    "E exibir o conteúdo com print:"
   ]
  },
  {
   "cell_type": "code",
   "execution_count": 4,
   "metadata": {},
   "outputs": [
    {
     "name": "stdout",
     "output_type": "stream",
     "text": [
      "E nessa loucura de dizer que não te quero\n",
      "Vou negando as aparências\n",
      "Disfarçando as evidências\n",
      "Mas pra que viver fingindo\n",
      "Se eu não posso enganar meu coração\n",
      "Eu sei que te amo\n",
      "Chega de mentiras\n",
      "De negar o meu desejo\n",
      "Eu te quero mais que tudo\n",
      "Eu preciso do seu beijo\n",
      "Eu entrego a minha vida\n",
      "Pra você fazer o que quiser de mim\n",
      "Só quero ouvir você dizer que sim\n",
      "\n",
      "Diz que é verdade, que tem saudade\n",
      "Que ainda você pensa muito em mim\n",
      "Diz que é verdade, que tem saudade\n",
      "Que ainda você quer viver pra mim\n",
      "\n"
     ]
    }
   ],
   "source": [
    "print(data)"
   ]
  },
  {
   "cell_type": "markdown",
   "metadata": {},
   "source": [
    "Essa diferença ocorre pois quando apenas inspecionamos o conteúdo, Python chama a função `repr()`, conforme aparece no final da sessão anterior. A função `print()`, por outro lado, formata o texto de acordo."
   ]
  },
  {
   "cell_type": "markdown",
   "metadata": {},
   "source": [
    "## Manipulando por linhas\n",
    "\n",
    "Muitas vezes precisamos processar apenas _uma_ linha de um arquivo de cada vez, sem nos preocuparmos com as outras. Em situações assim, para economizar memória, podemos proceder da seguinte forma:"
   ]
  },
  {
   "cell_type": "code",
   "execution_count": 7,
   "metadata": {},
   "outputs": [
    {
     "name": "stdout",
     "output_type": "stream",
     "text": [
      "E nessa loucura de dizer que não te quero\n",
      "Vou negando as aparências\n",
      "Disfarçando as evidências\n",
      "Mas pra que viver fingindo\n",
      "Se eu não posso enganar meu coração\n",
      "Eu sei que te amo\n",
      "Chega de mentiras\n",
      "De negar o meu desejo\n",
      "Eu te quero mais que tudo\n",
      "Eu preciso do seu beijo\n",
      "Eu entrego a minha vida\n",
      "Pra você fazer o que quiser de mim\n",
      "Só quero ouvir você dizer que sim\n",
      "\n",
      "Diz que é verdade, que tem saudade\n",
      "Que ainda você pensa muito em mim\n",
      "Diz que é verdade, que tem saudade\n",
      "Que ainda você quer viver pra mim\n"
     ]
    }
   ],
   "source": [
    "arquivo = open('exemplo.txt')\n",
    "for linha in arquivo:\n",
    "    print(linha, end='')"
   ]
  },
  {
   "cell_type": "markdown",
   "metadata": {},
   "source": [
    "O argumento `end` é opcional da função `print()`. Normalmente ela pula a linha no final mas como as linhas do arquivo já incluem uma quebra de linha, nós colocamos o fim da linha como sendo nulo."
   ]
  },
  {
   "cell_type": "markdown",
   "metadata": {},
   "source": [
    "## Escrevendo em arquivos"
   ]
  },
  {
   "cell_type": "code",
   "execution_count": 1,
   "metadata": {},
   "outputs": [],
   "source": [
    "# Abra o arquivo em modo escrita\n",
    "f = open(\"teste.txt\", \"w\")"
   ]
  },
  {
   "cell_type": "code",
   "execution_count": 2,
   "metadata": {},
   "outputs": [
    {
     "data": {
      "text/plain": [
       "4"
      ]
     },
     "execution_count": 2,
     "metadata": {},
     "output_type": "execute_result"
    }
   ],
   "source": [
    "# Escreva sua string nele\n",
    "f.write(\"olá!\")"
   ]
  },
  {
   "cell_type": "code",
   "execution_count": 3,
   "metadata": {},
   "outputs": [],
   "source": [
    "# Feche o arquivo!\n",
    "f.close()"
   ]
  },
  {
   "cell_type": "code",
   "execution_count": 6,
   "metadata": {},
   "outputs": [],
   "source": [
    "# Ou use um gerenciador de contexto!\n",
    "\n",
    "with open(\"teste2.txt\", \"w\") as f1:\n",
    "    f1.write(\"olá de novo!\")"
   ]
  }
 ],
 "metadata": {
  "kernelspec": {
   "display_name": "Python 3",
   "language": "python",
   "name": "python3"
  },
  "language_info": {
   "codemirror_mode": {
    "name": "ipython",
    "version": 3
   },
   "file_extension": ".py",
   "mimetype": "text/x-python",
   "name": "python",
   "nbconvert_exporter": "python",
   "pygments_lexer": "ipython3",
   "version": "3.7.2"
  }
 },
 "nbformat": 4,
 "nbformat_minor": 2
}
