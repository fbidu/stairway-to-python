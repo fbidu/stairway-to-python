{
 "cells": [
  {
   "cell_type": "markdown",
   "metadata": {},
   "source": [
    "# Python e a Internet\n",
    "\n",
    "Executar operações com sites é algo recorrente desde a popularização da Internet. Muito do que é feito em programação atualmente envolve esses conceitos.\n",
    "\n",
    "Nesse exemplo, utilizarei a [SWAPI - The Star Wars API](https://swapi.co/) um serviço online que nos oferece informações sobre elementos de Star Wars.\n",
    "\n",
    "Nós podemos, por exemplo, ver os detalhes de um personagem como o [Luke Skywalker](https://swapi.co/api/people/1/). Se você abrir esse link em seu navegador, verá as informações acessíveis mas, como acessá-las diretamente de seu código?\n",
    "\n",
    "Embora Python ofereça a biblioteca nativa [urllib](https://docs.python.org/3/library/urllib.request.html#module-urllib.request), a própria documentação oficial recomenda o uso da excelente bibliteca [Requests](http://docs.python-requests.org/en/master/) para realizar operações HTTP de alto nível. Se por acaso você pretende fazer operações HTTP cruas, a biblioteca URLLib pode ser útil. Para os casos mais comuns de consumir um serviço HTTP, a biblioteca Requests faz um trabalho mais elegante.\n",
    "\n",
    "Você provavelmente conseguirá instalá-la em sua máquina com o comando:\n",
    "\n",
    "`python3 -m pip install --user requests` \n",
    "\n",
    "Assumindo que \"python3\" seja o comando pra iniciar sua instalação do Python 3.x"
   ]
  },
  {
   "cell_type": "code",
   "execution_count": 8,
   "metadata": {},
   "outputs": [],
   "source": [
    "import requests  # Primeiro, importamos a lib"
   ]
  },
  {
   "cell_type": "code",
   "execution_count": 3,
   "metadata": {},
   "outputs": [
    {
     "name": "stdout",
     "output_type": "stream",
     "text": [
      "{\"name\":\"Luke Skywalker\",\"height\":\"172\",\"mass\":\"77\",\"hair_color\":\"blond\",\"skin_color\":\"fair\",\"eye_color\":\"blue\",\"birth_year\":\"19BBY\",\"gender\":\"male\",\"homeworld\":\"https://swapi.co/api/planets/1/\",\"films\":[\"https://swapi.co/api/films/2/\",\"https://swapi.co/api/films/6/\",\"https://swapi.co/api/films/3/\",\"https://swapi.co/api/films/1/\",\"https://swapi.co/api/films/7/\"],\"species\":[\"https://swapi.co/api/species/1/\"],\"vehicles\":[\"https://swapi.co/api/vehicles/14/\",\"https://swapi.co/api/vehicles/30/\"],\"starships\":[\"https://swapi.co/api/starships/12/\",\"https://swapi.co/api/starships/22/\"],\"created\":\"2014-12-09T13:50:51.644000Z\",\"edited\":\"2014-12-20T21:17:56.891000Z\",\"url\":\"https://swapi.co/api/people/1/\"}\n"
     ]
    }
   ],
   "source": [
    "# Então, chamamos pela URL e imprimimos o resultado cru\n",
    "\n",
    "data = requests.get('https://swapi.co/api/people/1/')\n",
    "print(data.text)"
   ]
  },
  {
   "cell_type": "code",
   "execution_count": 5,
   "metadata": {},
   "outputs": [
    {
     "data": {
      "text/plain": [
       "{'Date': 'Tue, 14 Aug 2018 03:49:01 GMT', 'Content-Type': 'application/json', 'Transfer-Encoding': 'chunked', 'Connection': 'keep-alive', 'Set-Cookie': '__cfduid=d78ca9466721e2d8c673ed6582d56b04c1534218540; expires=Wed, 14-Aug-19 03:49:00 GMT; path=/; domain=.swapi.co; HttpOnly; Secure', 'X-Frame-Options': 'SAMEORIGIN', 'Etag': 'W/\"145c70f4eca80b4752674d42e5bf1bcf\"', 'Allow': 'GET, HEAD, OPTIONS', 'Vary': 'Accept, Cookie', 'Via': '1.1 vegur', 'Expect-CT': 'max-age=604800, report-uri=\"https://report-uri.cloudflare.com/cdn-cgi/beacon/expect-ct\"', 'Server': 'cloudflare', 'CF-RAY': '44a072f67f634aa8-GRU', 'Content-Encoding': 'gzip'}"
      ]
     },
     "execution_count": 5,
     "metadata": {},
     "output_type": "execute_result"
    }
   ],
   "source": [
    "# Também podemos verificar os cabeçalho HTTP de resposta\n",
    "data.headers"
   ]
  },
  {
   "cell_type": "code",
   "execution_count": 6,
   "metadata": {},
   "outputs": [
    {
     "data": {
      "text/plain": [
       "200"
      ]
     },
     "execution_count": 6,
     "metadata": {},
     "output_type": "execute_result"
    }
   ],
   "source": [
    "# E o código HTTP de resposta\n",
    "data.status_code"
   ]
  },
  {
   "cell_type": "markdown",
   "metadata": {},
   "source": [
    "Podemos obter o resultado de forma mais estruturada no formato JSON:"
   ]
  },
  {
   "cell_type": "code",
   "execution_count": 9,
   "metadata": {},
   "outputs": [
    {
     "data": {
      "text/plain": [
       "{'name': 'Luke Skywalker',\n",
       " 'height': '172',\n",
       " 'mass': '77',\n",
       " 'hair_color': 'blond',\n",
       " 'skin_color': 'fair',\n",
       " 'eye_color': 'blue',\n",
       " 'birth_year': '19BBY',\n",
       " 'gender': 'male',\n",
       " 'homeworld': 'https://swapi.co/api/planets/1/',\n",
       " 'films': ['https://swapi.co/api/films/2/',\n",
       "  'https://swapi.co/api/films/6/',\n",
       "  'https://swapi.co/api/films/3/',\n",
       "  'https://swapi.co/api/films/1/',\n",
       "  'https://swapi.co/api/films/7/'],\n",
       " 'species': ['https://swapi.co/api/species/1/'],\n",
       " 'vehicles': ['https://swapi.co/api/vehicles/14/',\n",
       "  'https://swapi.co/api/vehicles/30/'],\n",
       " 'starships': ['https://swapi.co/api/starships/12/',\n",
       "  'https://swapi.co/api/starships/22/'],\n",
       " 'created': '2014-12-09T13:50:51.644000Z',\n",
       " 'edited': '2014-12-20T21:17:56.891000Z',\n",
       " 'url': 'https://swapi.co/api/people/1/'}"
      ]
     },
     "execution_count": 9,
     "metadata": {},
     "output_type": "execute_result"
    }
   ],
   "source": [
    "data.json()"
   ]
  },
  {
   "cell_type": "markdown",
   "metadata": {},
   "source": [
    "A biblioteca request vai entregar o JSON direto como um dicionário:"
   ]
  },
  {
   "cell_type": "code",
   "execution_count": 10,
   "metadata": {},
   "outputs": [
    {
     "data": {
      "text/plain": [
       "'Luke Skywalker'"
      ]
     },
     "execution_count": 10,
     "metadata": {},
     "output_type": "execute_result"
    }
   ],
   "source": [
    "luke = data.json()\n",
    "luke['name']"
   ]
  },
  {
   "cell_type": "markdown",
   "metadata": {},
   "source": [
    "## Post HTTP\n",
    "\n",
    "Requests também torna fácil fazer um `post` em HTTP. Vamos usar o serviço [HTTP Bin](http://httpbin.org) que nos permite testar chamadas HTTP diversas"
   ]
  },
  {
   "cell_type": "code",
   "execution_count": 13,
   "metadata": {},
   "outputs": [],
   "source": [
    "data = requests.post(\"http://httpbin.org/post\", json={\"nome\": \"Felipe\"})"
   ]
  },
  {
   "cell_type": "code",
   "execution_count": 14,
   "metadata": {},
   "outputs": [
    {
     "data": {
      "text/plain": [
       "{'args': {},\n",
       " 'data': '{\"nome\": \"Felipe\"}',\n",
       " 'files': {},\n",
       " 'form': {},\n",
       " 'headers': {'Accept': '*/*',\n",
       "  'Accept-Encoding': 'gzip, deflate',\n",
       "  'Connection': 'close',\n",
       "  'Content-Length': '18',\n",
       "  'Content-Type': 'application/json',\n",
       "  'Host': 'httpbin.org',\n",
       "  'User-Agent': 'python-requests/2.19.1'},\n",
       " 'json': {'nome': 'Felipe'},\n",
       " 'origin': '187.35.199.93',\n",
       " 'url': 'http://httpbin.org/post'}"
      ]
     },
     "execution_count": 14,
     "metadata": {},
     "output_type": "execute_result"
    }
   ],
   "source": [
    "data.json()"
   ]
  }
 ],
 "metadata": {
  "kernelspec": {
   "display_name": "Python 3",
   "language": "python",
   "name": "python3"
  },
  "language_info": {
   "codemirror_mode": {
    "name": "ipython",
    "version": 3
   },
   "file_extension": ".py",
   "mimetype": "text/x-python",
   "name": "python",
   "nbconvert_exporter": "python",
   "pygments_lexer": "ipython3",
   "version": "3.6.5"
  }
 },
 "nbformat": 4,
 "nbformat_minor": 2
}
