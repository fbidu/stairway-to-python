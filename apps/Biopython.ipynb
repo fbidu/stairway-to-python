{
 "cells": [
  {
   "cell_type": "code",
   "execution_count": 1,
   "id": "9229b776-2f13-45e2-80ca-844209ba26f9",
   "metadata": {},
   "outputs": [],
   "source": [
    "from Bio.Seq import Seq\n"
   ]
  },
  {
   "cell_type": "code",
   "execution_count": 2,
   "id": "c8a15dd1-bbb5-4891-910b-556887c5cdd5",
   "metadata": {},
   "outputs": [],
   "source": [
    "dna_sequence = Seq(\"ATCGGTAACCGT\")\n"
   ]
  },
  {
   "cell_type": "code",
   "execution_count": 3,
   "id": "315e5417-2144-41ef-be06-e6fc1f83d424",
   "metadata": {},
   "outputs": [
    {
     "name": "stdout",
     "output_type": "stream",
     "text": [
      "Sequência de DNA: ATCGGTAACCGT\n"
     ]
    }
   ],
   "source": [
    "print(\"Sequência de DNA:\", dna_sequence)\n"
   ]
  },
  {
   "cell_type": "code",
   "execution_count": 4,
   "id": "dcecac62-e531-4557-b47f-d9eae7ff10c9",
   "metadata": {},
   "outputs": [
    {
     "name": "stdout",
     "output_type": "stream",
     "text": [
      "Sequência Complementar: TAGCCATTGGCA\n",
      "Sequência Revertida: ACGGTTACCGAT\n"
     ]
    }
   ],
   "source": [
    "complement_sequence = dna_sequence.complement()\n",
    "reverse_sequence = dna_sequence.reverse_complement()\n",
    "\n",
    "print(\"Sequência Complementar:\", complement_sequence)\n",
    "print(\"Sequência Revertida:\", reverse_sequence)\n"
   ]
  },
  {
   "cell_type": "code",
   "execution_count": 5,
   "id": "a6b6bcb8-eb32-46e8-ad74-a807a4a4ad34",
   "metadata": {},
   "outputs": [
    {
     "name": "stdout",
     "output_type": "stream",
     "text": [
      "Sequência de Proteína: IGNR\n"
     ]
    }
   ],
   "source": [
    "protein_sequence = dna_sequence.translate()\n",
    "print(\"Sequência de Proteína:\", protein_sequence)\n"
   ]
  },
  {
   "cell_type": "code",
   "execution_count": 6,
   "id": "8a5a86af-8a86-4492-aa0b-a32eb6345192",
   "metadata": {},
   "outputs": [
    {
     "name": "stdout",
     "output_type": "stream",
     "text": [
      "Contagem de A: 3\n",
      "Contagem de T: 3\n",
      "Contagem de C: 3\n",
      "Contagem de G: 3\n"
     ]
    }
   ],
   "source": [
    "a_count = dna_sequence.count(\"A\")\n",
    "t_count = dna_sequence.count(\"T\")\n",
    "c_count = dna_sequence.count(\"C\")\n",
    "g_count = dna_sequence.count(\"G\")\n",
    "\n",
    "print(\"Contagem de A:\", a_count)\n",
    "print(\"Contagem de T:\", t_count)\n",
    "print(\"Contagem de C:\", c_count)\n",
    "print(\"Contagem de G:\", g_count)\n"
   ]
  },
  {
   "cell_type": "markdown",
   "id": "12466f76-44fb-4cb2-96ff-9a1d92801aa3",
   "metadata": {},
   "source": [
    "## BLAST + Python"
   ]
  },
  {
   "cell_type": "code",
   "execution_count": 7,
   "id": "5fafe0a6-1de3-4921-ac78-ba0b7a465add",
   "metadata": {},
   "outputs": [],
   "source": [
    "from Bio.Blast import NCBIWWW\n",
    "from Bio.Seq import Seq\n",
    "\n",
    "# Sequência de DNA para buscar no BLAST\n",
    "query_sequence = Seq(\"ATCGGTAACCGT\")\n",
    "\n",
    "# Executar a pesquisa BLAST\n",
    "result_handle = NCBIWWW.qblast(\"blastn\", \"nt\", query_sequence)\n",
    "\n",
    "# Ler e analisar o resultado\n",
    "from Bio.Blast import NCBIXML\n",
    "blast_record = NCBIXML.read(result_handle)\n",
    "\n",
    "# Processar os resultados\n",
    "for alignment in blast_record.alignments:\n",
    "    for hsp in alignment.hsps:\n",
    "        print(f\"Sequência relacionada: {alignment.title}\")\n",
    "        print(f\"Score: {hsp.score}\")\n",
    "        print(f\"Identidade: {hsp.identities}\")\n",
    "        print(f\"Alinhamento: {hsp.query}\\n           {hsp.match}\\n           {hsp.sbjct}\\n\")\n"
   ]
  },
  {
   "cell_type": "markdown",
   "id": "3d6674b8-4389-417c-8e4b-76327de7c43f",
   "metadata": {},
   "source": [
    "## GenBank"
   ]
  },
  {
   "cell_type": "code",
   "execution_count": 8,
   "id": "ac13f36d-3707-489a-b4c8-b9748de661e4",
   "metadata": {},
   "outputs": [
    {
     "name": "stdout",
     "output_type": "stream",
     "text": [
      "Accession: NZ_JAQFHQ000000000.1\n",
      "Descrição: Acinetobacter baumannii strain 94-Ac, whole genome shotgun sequencing project\n",
      "Comprimento: 3745579 bases\n",
      "\n",
      "Accession: NZ_JAQFHQ010001034.1\n",
      "Descrição: Acinetobacter baumannii strain 94-Ac NODE_1085_length_212_cov_1076.585185, whole genome shotgun sequence\n",
      "Comprimento: 212 bases\n",
      "\n",
      "Accession: NZ_JAQFHQ010001033.1\n",
      "Descrição: Acinetobacter baumannii strain 94-Ac NODE_1084_length_236_cov_56.188679, whole genome shotgun sequence\n",
      "Comprimento: 236 bases\n",
      "\n",
      "Accession: NZ_JAQFHQ010001030.1\n",
      "Descrição: Acinetobacter baumannii strain 94-Ac NODE_1081_length_314_cov_0.907173, whole genome shotgun sequence\n",
      "Comprimento: 314 bases\n",
      "\n",
      "Accession: NZ_JAQFHQ010001029.1\n",
      "Descrição: Acinetobacter baumannii strain 94-Ac NODE_1080_length_314_cov_0.932489, whole genome shotgun sequence\n",
      "Comprimento: 314 bases\n",
      "\n",
      "Accession: NZ_JAQFHQ010001028.1\n",
      "Descrição: Acinetobacter baumannii strain 94-Ac NODE_1079_length_314_cov_0.970464, whole genome shotgun sequence\n",
      "Comprimento: 314 bases\n",
      "\n",
      "Accession: NZ_JAQFHQ010001027.1\n",
      "Descrição: Acinetobacter baumannii strain 94-Ac NODE_1078_length_314_cov_1.329114, whole genome shotgun sequence\n",
      "Comprimento: 314 bases\n",
      "\n",
      "Accession: NZ_JAQFHQ010001026.1\n",
      "Descrição: Acinetobacter baumannii strain 94-Ac NODE_1077_length_314_cov_1.333333, whole genome shotgun sequence\n",
      "Comprimento: 314 bases\n",
      "\n",
      "Accession: NZ_JAQFHQ010001025.1\n",
      "Descrição: Acinetobacter baumannii strain 94-Ac NODE_1075_length_314_cov_1.337553, whole genome shotgun sequence\n",
      "Comprimento: 314 bases\n",
      "\n",
      "Accession: NZ_JAQFHQ010001024.1\n",
      "Descrição: Acinetobacter baumannii strain 94-Ac NODE_1073_length_314_cov_2.118143, whole genome shotgun sequence\n",
      "Comprimento: 314 bases\n",
      "\n"
     ]
    }
   ],
   "source": [
    "from Bio import Entrez\n",
    "from Bio import SeqIO\n",
    "\n",
    "# Configurar e-mail (obrigatório pela NCBI)\n",
    "Entrez.email = \"seu_email@example.com\"\n",
    "\n",
    "# Pesquisar por sequências do COVID-19\n",
    "search_term = \"COVID-19\"\n",
    "handle = Entrez.esearch(db=\"nucleotide\", term=search_term, idtype=\"acc\", retmax=10)\n",
    "record = Entrez.read(handle)\n",
    "handle.close()\n",
    "\n",
    "# Obter detalhes das sequências\n",
    "for accession in record[\"IdList\"]:\n",
    "    handle = Entrez.efetch(db=\"nucleotide\", id=accession, rettype=\"gb\", retmode=\"text\")\n",
    "    seq_record = SeqIO.read(handle, \"genbank\")\n",
    "    handle.close()\n",
    "\n",
    "    print(f\"Accession: {seq_record.id}\")\n",
    "    print(f\"Descrição: {seq_record.description}\")\n",
    "    print(f\"Comprimento: {len(seq_record)} bases\\n\")\n"
   ]
  },
  {
   "cell_type": "code",
   "execution_count": null,
   "id": "b9653693-1003-45aa-8922-3124b8d34fc4",
   "metadata": {},
   "outputs": [],
   "source": []
  }
 ],
 "metadata": {
  "kernelspec": {
   "display_name": "Python 3 (ipykernel)",
   "language": "python",
   "name": "python3"
  },
  "language_info": {
   "codemirror_mode": {
    "name": "ipython",
    "version": 3
   },
   "file_extension": ".py",
   "mimetype": "text/x-python",
   "name": "python",
   "nbconvert_exporter": "python",
   "pygments_lexer": "ipython3",
   "version": "3.11.2"
  }
 },
 "nbformat": 4,
 "nbformat_minor": 5
}
